{
 "cells": [
  {
   "cell_type": "code",
   "execution_count": 27,
   "id": "cd7cbe43-703a-4be0-98fe-92bb5b8a3c01",
   "metadata": {
    "scrolled": true
   },
   "outputs": [
    {
     "name": "stderr",
     "output_type": "stream",
     "text": [
      "[nltk_data] Downloading package punkt to /home/vuong/nltk_data...\n",
      "[nltk_data]   Package punkt is already up-to-date!\n"
     ]
    }
   ],
   "source": [
    "import pandas as pd\n",
    "import torch\n",
    "from torch.utils.data import Dataset, DataLoader\n",
    "from nltk.tokenize import word_tokenize\n",
    "import nltk\n",
    "from sklearn.model_selection import train_test_split\n",
    "from collections import Counter\n",
    "import re\n",
    "from datasets import load_dataset\n",
    "from classes import SentimentDataset\n",
    "from collections import Counter\n",
    "from tqdm import tqdm\n",
    "from nltk.tokenize import word_tokenize, RegexpTokenizer\n",
    "nltk.download('punkt')\n",
    "from stopwordsiso import stopwords\n"
   ]
  },
  {
   "cell_type": "code",
   "execution_count": 28,
   "id": "736280a4-43d2-44e5-8c4f-b6fc3fa77c74",
   "metadata": {
    "scrolled": true
   },
   "outputs": [
    {
     "name": "stderr",
     "output_type": "stream",
     "text": [
      "[nltk_data] Downloading package punkt to /home/vuong/nltk_data...\n",
      "[nltk_data]   Unzipping tokenizers/punkt.zip.\n",
      "[nltk_data] Downloading package punkt_tab to /home/vuong/nltk_data...\n",
      "[nltk_data]   Package punkt_tab is already up-to-date!\n"
     ]
    }
   ],
   "source": [
    "nltk.data.find('tokenizers/punkt')  # Kiểm tra xem đã có chưa\n",
    "nltk.download('punkt', force=True)\n",
    "nltk.download('punkt_tab')\n",
    "vietnamese_stopwords = stopwords(['vi'])"
   ]
  },
  {
   "cell_type": "code",
   "execution_count": 29,
   "id": "65bb9765-ac0a-4436-aac6-79864567dedc",
   "metadata": {},
   "outputs": [],
   "source": [
    "# data = pd.read_csv('sentiment.csv').dropna()\n",
    "# data\n",
    "from datasets import load_dataset\n",
    "import dataset\n",
    "data = pd.read_csv('sentiment_data.csv').dropna()\n",
    "\n",
    "# ds = load_dataset(\"uitnlp/vietnamese_students_feedback\")\n",
    "# Chuyển tập train từ Hugging Face dataset sang pandas DataFrame\n",
    "# data= ds['train'].to_pandas()\n",
    "data = data.rename(columns={'sentence': 'text', 'sentiment': 'label'})\n",
    "\n",
    "# val_df = ds['validation'].to_pandas()\n",
    "# test_df = ds['test'].to_pandas()"
   ]
  },
  {
   "cell_type": "code",
   "execution_count": 30,
   "id": "8ca47019-cc8f-4d71-ac49-5c79498e30a1",
   "metadata": {},
   "outputs": [
    {
     "data": {
      "text/html": [
       "<div>\n",
       "<style scoped>\n",
       "    .dataframe tbody tr th:only-of-type {\n",
       "        vertical-align: middle;\n",
       "    }\n",
       "\n",
       "    .dataframe tbody tr th {\n",
       "        vertical-align: top;\n",
       "    }\n",
       "\n",
       "    .dataframe thead th {\n",
       "        text-align: right;\n",
       "    }\n",
       "</style>\n",
       "<table border=\"1\" class=\"dataframe\">\n",
       "  <thead>\n",
       "    <tr style=\"text-align: right;\">\n",
       "      <th></th>\n",
       "      <th>text</th>\n",
       "      <th>label</th>\n",
       "      <th>topic</th>\n",
       "    </tr>\n",
       "  </thead>\n",
       "  <tbody>\n",
       "    <tr>\n",
       "      <th>0</th>\n",
       "      <td>Đội ngũ bảo trì quá thưa thớt dẫn đến không đả...</td>\n",
       "      <td>negative</td>\n",
       "      <td>facility</td>\n",
       "    </tr>\n",
       "    <tr>\n",
       "      <th>1</th>\n",
       "      <td>The university's musical and artistic faciliti...</td>\n",
       "      <td>neutral</td>\n",
       "      <td>facility</td>\n",
       "    </tr>\n",
       "    <tr>\n",
       "      <th>2</th>\n",
       "      <td>Phương pháp giảng dạy phù hợp với các đối tượn...</td>\n",
       "      <td>neutral</td>\n",
       "      <td>curriculum</td>\n",
       "    </tr>\n",
       "    <tr>\n",
       "      <th>3</th>\n",
       "      <td>Chương trình học giúp tôi trở thành một chuyên...</td>\n",
       "      <td>positive</td>\n",
       "      <td>curriculum</td>\n",
       "    </tr>\n",
       "    <tr>\n",
       "      <th>4</th>\n",
       "      <td>Tôi nghĩ rằng chương trình đào tạo có thể có t...</td>\n",
       "      <td>neutral</td>\n",
       "      <td>curriculum</td>\n",
       "    </tr>\n",
       "    <tr>\n",
       "      <th>...</th>\n",
       "      <td>...</td>\n",
       "      <td>...</td>\n",
       "      <td>...</td>\n",
       "    </tr>\n",
       "    <tr>\n",
       "      <th>10175</th>\n",
       "      <td>Giáo viên đưa ra các phương tiện hỗ trợ giảng ...</td>\n",
       "      <td>neutral</td>\n",
       "      <td>curriculum</td>\n",
       "    </tr>\n",
       "    <tr>\n",
       "      <th>10176</th>\n",
       "      <td>The university's computer facilities are up-to...</td>\n",
       "      <td>neutral</td>\n",
       "      <td>facility</td>\n",
       "    </tr>\n",
       "    <tr>\n",
       "      <th>10177</th>\n",
       "      <td>Thiếu tính linh hoạt trong hình thức giảng dạy...</td>\n",
       "      <td>negative</td>\n",
       "      <td>curriculum</td>\n",
       "    </tr>\n",
       "    <tr>\n",
       "      <th>10178</th>\n",
       "      <td>Cô ấy rất sắc sảo và có khả năng phân tích chi...</td>\n",
       "      <td>positive</td>\n",
       "      <td>others</td>\n",
       "    </tr>\n",
       "    <tr>\n",
       "      <th>10179</th>\n",
       "      <td>Anh ấy có tài năng về âm nhạc và luôn tìm cách...</td>\n",
       "      <td>positive</td>\n",
       "      <td>others</td>\n",
       "    </tr>\n",
       "  </tbody>\n",
       "</table>\n",
       "<p>10180 rows × 3 columns</p>\n",
       "</div>"
      ],
      "text/plain": [
       "                                                    text     label       topic\n",
       "0      Đội ngũ bảo trì quá thưa thớt dẫn đến không đả...  negative    facility\n",
       "1      The university's musical and artistic faciliti...   neutral    facility\n",
       "2      Phương pháp giảng dạy phù hợp với các đối tượn...   neutral  curriculum\n",
       "3      Chương trình học giúp tôi trở thành một chuyên...  positive  curriculum\n",
       "4      Tôi nghĩ rằng chương trình đào tạo có thể có t...   neutral  curriculum\n",
       "...                                                  ...       ...         ...\n",
       "10175  Giáo viên đưa ra các phương tiện hỗ trợ giảng ...   neutral  curriculum\n",
       "10176  The university's computer facilities are up-to...   neutral    facility\n",
       "10177  Thiếu tính linh hoạt trong hình thức giảng dạy...  negative  curriculum\n",
       "10178  Cô ấy rất sắc sảo và có khả năng phân tích chi...  positive      others\n",
       "10179  Anh ấy có tài năng về âm nhạc và luôn tìm cách...  positive      others\n",
       "\n",
       "[10180 rows x 3 columns]"
      ]
     },
     "execution_count": 30,
     "metadata": {},
     "output_type": "execute_result"
    }
   ],
   "source": [
    "data"
   ]
  },
  {
   "cell_type": "code",
   "execution_count": 31,
   "id": "a8bd22a2-26cc-43b4-82bf-51092f456628",
   "metadata": {},
   "outputs": [
    {
     "name": "stdout",
     "output_type": "stream",
     "text": [
      "<class 'pandas.core.frame.DataFrame'>\n",
      "RangeIndex: 10180 entries, 0 to 10179\n",
      "Data columns (total 3 columns):\n",
      " #   Column  Non-Null Count  Dtype \n",
      "---  ------  --------------  ----- \n",
      " 0   text    10180 non-null  object\n",
      " 1   label   10180 non-null  object\n",
      " 2   topic   10180 non-null  object\n",
      "dtypes: object(3)\n",
      "memory usage: 238.7+ KB\n"
     ]
    }
   ],
   "source": [
    "data.info()"
   ]
  },
  {
   "cell_type": "code",
   "execution_count": 32,
   "id": "ba0a073f-34af-491a-8d05-6370d0caf4bb",
   "metadata": {
    "scrolled": true
   },
   "outputs": [
    {
     "data": {
      "text/plain": [
       "text     0\n",
       "label    0\n",
       "topic    0\n",
       "dtype: int64"
      ]
     },
     "execution_count": 32,
     "metadata": {},
     "output_type": "execute_result"
    }
   ],
   "source": [
    "data.isnull().sum()"
   ]
  },
  {
   "cell_type": "code",
   "execution_count": 33,
   "id": "54ee00c2-35db-475d-9575-f638b610ff72",
   "metadata": {
    "scrolled": true
   },
   "outputs": [
    {
     "name": "stdout",
     "output_type": "stream",
     "text": [
      "Empty DataFrame\n",
      "Columns: [text, label, topic]\n",
      "Index: []\n"
     ]
    }
   ],
   "source": [
    "duplicates = data[data.duplicated(subset='text', keep=False)]\n",
    "print(duplicates)"
   ]
  },
  {
   "cell_type": "code",
   "execution_count": 34,
   "id": "44f7c645-2624-48f2-984c-971b5c9aa1bc",
   "metadata": {},
   "outputs": [],
   "source": [
    "data = data.drop_duplicates(subset=['text'], keep='first')"
   ]
  },
  {
   "cell_type": "code",
   "execution_count": 35,
   "id": "82ced670-cbbb-435a-b686-6a12e9e99004",
   "metadata": {
    "scrolled": true
   },
   "outputs": [
    {
     "data": {
      "image/png": "[encoded data removed]",
      "text/plain": [
       "<Figure size 640x480 with 1 Axes>"
      ]
     },
     "metadata": {},
     "output_type": "display_data"
    }
   ],
   "source": [
    "import seaborn as sb\n",
    "x = sb.countplot(x='label',data=data)"
   ]
  },
  {
   "cell_type": "code",
   "execution_count": 36,
   "id": "b75ae643-a0ca-46ea-8c0b-73ea4aff438b",
   "metadata": {},
   "outputs": [
    {
     "name": "stdout",
     "output_type": "stream",
     "text": [
      "<class 'pandas.core.frame.DataFrame'>\n",
      "RangeIndex: 10180 entries, 0 to 10179\n",
      "Data columns (total 3 columns):\n",
      " #   Column  Non-Null Count  Dtype \n",
      "---  ------  --------------  ----- \n",
      " 0   text    10180 non-null  object\n",
      " 1   label   10180 non-null  object\n",
      " 2   topic   10180 non-null  object\n",
      "dtypes: object(3)\n",
      "memory usage: 238.7+ KB\n"
     ]
    }
   ],
   "source": [
    "data.info()"
   ]
  },
  {
   "cell_type": "code",
   "execution_count": 37,
   "id": "61ef3312-c670-4a4a-927a-f1878d1aa15b",
   "metadata": {
    "scrolled": true
   },
   "outputs": [],
   "source": [
    "import re\n",
    "# Sử dụng .loc để thay đổi giá trị trong DataFrame gốc\n",
    "data[\"text\"] = data[\"text\"].str.strip().str.replace(\"\\n\",\" \")"
   ]
  },
  {
   "cell_type": "code",
   "execution_count": 38,
   "id": "4d6237fc-9ef8-43f2-a5d7-3e6d51c80c6f",
   "metadata": {},
   "outputs": [
    {
     "name": "stderr",
     "output_type": "stream",
     "text": [
      "100%|███████████████████████████████████| 10180/10180 [00:01<00:00, 8690.52it/s]\n",
      "100%|██████████████████████████████████| 10180/10180 [00:00<00:00, 35059.64it/s]\n"
     ]
    }
   ],
   "source": [
    "texts = [re.sub(r\"[^\\w\\s]\", \"\", t.lower()) for t in data['text']]\n",
    "texts = [' '.join(t.strip().split()) for t in texts]\n",
    "\n",
    "tokenizer = RegexpTokenizer(r'\\w+')\n",
    "tokens = [word_tokenize(t) for t in tqdm(texts)]\n",
    "tokens = [[\"\".join(tokenizer.tokenize(word)) for word in t if len(tokenizer.tokenize(word)) > 0] for t in tqdm(tokens)]\n",
    "\n",
    "texts = [\" \".join(t) for t in tokens]\n",
    "# labels = data['label'].tolist()\n",
    "# labels = data['label'].map({'Positive': 0, 'Negative': 1, 'Neutral': 2}).tolist()\n",
    "labels = data['label'].map({'negative': 0, 'positive': 1, 'neutral': 2}).tolist()"
   ]
  },
  {
   "cell_type": "code",
   "execution_count": 39,
   "id": "f287334e-5d32-4f01-aa24-2e550cf93d05",
   "metadata": {},
   "outputs": [
    {
     "name": "stderr",
     "output_type": "stream",
     "text": [
      "100%|███████████████████████████████████| 10180/10180 [00:01<00:00, 7224.16it/s]\n"
     ]
    }
   ],
   "source": [
    "# tokenized_texts = [word_tokenize(t) for t in texts]\n",
    "\n",
    "tokenized_texts = [\n",
    "    [word for word in word_tokenize(t) if word not in vietnamese_stopwords]\n",
    "    for t in tqdm(texts)\n",
    "]"
   ]
  },
  {
   "cell_type": "code",
   "execution_count": 40,
   "id": "cce2500f-55fd-4d11-bbee-cc013c52d099",
   "metadata": {},
   "outputs": [
    {
     "name": "stdout",
     "output_type": "stream",
     "text": [
      "Max length: 34\n",
      "Mean length: 9.73614931237721\n",
      "Median length: 9.0\n",
      "90th percentile: 15.0\n",
      "95th percentile: 16.0\n",
      "99th percentile: 21.0\n"
     ]
    },
    {
     "data": {
      "image/png": "[encoded data removed]",
      "text/plain": [
       "<Figure size 640x480 with 1 Axes>"
      ]
     },
     "metadata": {},
     "output_type": "display_data"
    }
   ],
   "source": [
    "import numpy as np\n",
    "import matplotlib.pyplot as plt\n",
    "import seaborn as sns\n",
    "lengths = [len(seq) for seq in tokenized_texts]\n",
    "\n",
    "print(\"Max length:\", max(lengths))\n",
    "print(\"Mean length:\", np.mean(lengths))\n",
    "print(\"Median length:\", np.median(lengths))\n",
    "print(\"90th percentile:\", np.percentile(lengths, 90))\n",
    "print(\"95th percentile:\", np.percentile(lengths, 95))\n",
    "print(\"99th percentile:\", np.percentile(lengths, 99))\n",
    "\n",
    "sns.histplot(lengths, bins=50, kde=True)\n",
    "plt.title(\"Phân phối độ dài câu (sau token hóa)\")\n",
    "plt.xlabel(\"Số token\")\n",
    "plt.ylabel(\"Số lượng văn bản\")\n",
    "plt.grid(True)\n",
    "plt.show()"
   ]
  },
  {
   "cell_type": "code",
   "execution_count": 41,
   "id": "b4ce9189-3b65-4db9-9c8c-f600f9be7ee3",
   "metadata": {},
   "outputs": [],
   "source": [
    "\n",
    "all_words = [w for txt in tokenized_texts for w in txt]\n",
    "most_common = Counter(all_words).most_common(4998)\n",
    "\n",
    "vocab = {'<PAD>': 0, '<UNK>': 1}\n",
    "for i, (w, _) in enumerate(most_common, 2):\n",
    "    vocab[w] = i\n",
    "\n",
    "def to_indices(tokens, max_len):\n",
    "    idxs = [vocab.get(t, 1) for t in tokens][:max_len]\n",
    "    return idxs + [0] * (max_len - len(idxs))\n",
    "\n",
    "max_len_text = 20\n",
    "text_indices = [to_indices(t, max_len_text) for t in tokenized_texts]\n",
    "\n",
    "train_texts, test_texts, train_labels, test_labels = train_test_split(text_indices, labels, test_size=0.2, random_state=42)"
   ]
  },
  {
   "cell_type": "code",
   "execution_count": 43,
   "id": "7d078c23-2040-4b1d-a2ee-67312e654545",
   "metadata": {},
   "outputs": [],
   "source": [
    "train_dataset = SentimentDataset(train_texts, train_labels)\n",
    "test_dataset = SentimentDataset(test_texts, test_labels)\n",
    "train_loader = DataLoader(train_dataset, batch_size=32)\n",
    "test_loader = DataLoader(test_dataset, batch_size=32)"
   ]
  },
  {
   "cell_type": "code",
   "execution_count": 44,
   "id": "1924e372-149e-4b92-a831-ea05920b00c7",
   "metadata": {},
   "outputs": [
    {
     "data": {
      "text/plain": [
       "<torch.utils.data.dataloader.DataLoader at 0x722a56a43a60>"
      ]
     },
     "execution_count": 44,
     "metadata": {},
     "output_type": "execute_result"
    }
   ],
   "source": [
    "train_loader"
   ]
  },
  {
   "cell_type": "code",
   "execution_count": 48,
   "id": "8d8bc684-bf2d-4c6b-97af-a0dbddf45dc2",
   "metadata": {},
   "outputs": [
    {
     "data": {
      "text/plain": [
       "2459"
      ]
     },
     "execution_count": 48,
     "metadata": {},
     "output_type": "execute_result"
    }
   ],
   "source": [
    "len(vocab)"
   ]
  },
  {
   "cell_type": "code",
   "execution_count": 45,
   "id": "aa07daa7-71bc-4dfc-b20e-75a9f58a6e8a",
   "metadata": {},
   "outputs": [],
   "source": [
    "data_to_save = {\n",
    "    'train_loader': train_loader,\n",
    "    'test_loader': test_loader,\n",
    "    'batch_size': 32,\n",
    "    'vocab': vocab,\n",
    "    'vocab_size': len(vocab)\n",
    "}\n",
    "save_path = 'sentiment_data_loader.pth'\n",
    "torch.save(data_to_save, save_path)"
   ]
  },
  {
   "cell_type": "markdown",
   "id": "6be1bb89-ab49-4fcd-b4f6-17d7383f600f",
   "metadata": {},
   "source": []
  }
 ],
 "metadata": {
  "kernelspec": {
   "display_name": "Python 3 (ipykernel)",
   "language": "python",
   "name": "python3"
  },
  "language_info": {
   "codemirror_mode": {
    "name": "ipython",
    "version": 3
   },
   "file_extension": ".py",
   "mimetype": "text/x-python",
   "name": "python",
   "nbconvert_exporter": "python",
   "pygments_lexer": "ipython3",
   "version": "3.10.16"
  }
 },
 "nbformat": 4,
 "nbformat_minor": 5
}
