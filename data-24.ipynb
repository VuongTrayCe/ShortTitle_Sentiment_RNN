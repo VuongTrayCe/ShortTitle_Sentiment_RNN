{
 "cells": [
  {
   "cell_type": "code",
   "execution_count": 83,
   "id": "cd7cbe43-703a-4be0-98fe-92bb5b8a3c01",
   "metadata": {
    "scrolled": true
   },
   "outputs": [
    {
     "name": "stderr",
     "output_type": "stream",
     "text": [
      "[nltk_data] Downloading package punkt to /home/vuong/nltk_data...\n",
      "[nltk_data]   Package punkt is already up-to-date!\n"
     ]
    }
   ],
   "source": [
    "import pandas as pd\n",
    "import torch\n",
    "from torch.utils.data import Dataset, DataLoader\n",
    "# from nltk.tokenize import word_tokenize\n",
    "from underthesea import text_normalize\n",
    "from underthesea import word_tokenize\n",
    "\n",
    "import nltk\n",
    "from sklearn.model_selection import train_test_split\n",
    "from collections import Counter\n",
    "import re\n",
    "from datasets import load_dataset\n",
    "from classes import SentimentDataset\n",
    "from collections import Counter\n",
    "from tqdm import tqdm\n",
    "from nltk.tokenize import RegexpTokenizer\n",
    "nltk.download('punkt')\n",
    "from stopwordsiso import stopwords\n",
    "import string\n",
    "import dataset"
   ]
  },
  {
   "cell_type": "code",
   "execution_count": 84,
   "id": "736280a4-43d2-44e5-8c4f-b6fc3fa77c74",
   "metadata": {
    "scrolled": true
   },
   "outputs": [
    {
     "name": "stderr",
     "output_type": "stream",
     "text": [
      "[nltk_data] Downloading package punkt to /home/vuong/nltk_data...\n",
      "[nltk_data]   Unzipping tokenizers/punkt.zip.\n",
      "[nltk_data] Downloading package punkt_tab to /home/vuong/nltk_data...\n",
      "[nltk_data]   Package punkt_tab is already up-to-date!\n"
     ]
    }
   ],
   "source": [
    "nltk.data.find('tokenizers/punkt')  # Kiểm tra xem đã có chưa\n",
    "nltk.download('punkt', force=True)\n",
    "nltk.download('punkt_tab')\n",
    "vietnamese_stopwords = stopwords(['vi'])"
   ]
  },
  {
   "cell_type": "code",
   "execution_count": 85,
   "id": "65bb9765-ac0a-4436-aac6-79864567dedc",
   "metadata": {},
   "outputs": [],
   "source": [
    "# data = pd.read_csv('neutral.csv').dropna()\n",
    "# data = data.rename(columns={'sentence': 'text', 'sentiment': 'label'})\n"
   ]
  },
  {
   "cell_type": "code",
   "execution_count": 119,
   "id": "b150689b-8f21-4407-af92-70e73bb795f2",
   "metadata": {},
   "outputs": [],
   "source": [
    "dataset = load_dataset(\"uit-nlp/vietnamese_students_feedback\") # https://ieeexplore.ieee.org/stamp/stamp.jsp?tp=&arnumber=8573337\n",
    "data_neutral = pd.read_csv('neutral.csv')\n",
    "train_df = dataset['train'].to_pandas()\n",
    "val_df = dataset['validation'].to_pandas()\n",
    "test_df = dataset['test'].to_pandas()\n",
    "\n",
    "# # Concatenate all DataFrames into one (so data is more objective and balance)\n",
    "data = pd.concat([train_df, val_df, test_df], ignore_index=True)\n",
    "# # Randomly mix/shuffle the DataFrame\n",
    "# data = data.sample(frac=1).reset_index(drop=True)\n",
    "data.rename(columns = {'sentence': 'text', 'sentiment': 'label'}, inplace = True)\n",
    "data = pd.concat([data,data_neutral], ignore_index=True)\n"
   ]
  },
  {
   "cell_type": "code",
   "execution_count": 120,
   "id": "d1c29893-197d-4cec-b08a-82cd7ca18d94",
   "metadata": {},
   "outputs": [
    {
     "data": {
      "text/html": [
       "<div>\n",
       "<style scoped>\n",
       "    .dataframe tbody tr th:only-of-type {\n",
       "        vertical-align: middle;\n",
       "    }\n",
       "\n",
       "    .dataframe tbody tr th {\n",
       "        vertical-align: top;\n",
       "    }\n",
       "\n",
       "    .dataframe thead th {\n",
       "        text-align: right;\n",
       "    }\n",
       "</style>\n",
       "<table border=\"1\" class=\"dataframe\">\n",
       "  <thead>\n",
       "    <tr style=\"text-align: right;\">\n",
       "      <th></th>\n",
       "      <th>text</th>\n",
       "      <th>label</th>\n",
       "      <th>topic</th>\n",
       "    </tr>\n",
       "  </thead>\n",
       "  <tbody>\n",
       "    <tr>\n",
       "      <th>0</th>\n",
       "      <td>slide giáo trình đầy đủ .</td>\n",
       "      <td>2</td>\n",
       "      <td>1</td>\n",
       "    </tr>\n",
       "    <tr>\n",
       "      <th>1</th>\n",
       "      <td>nhiệt tình giảng dạy , gần gũi với sinh viên .</td>\n",
       "      <td>2</td>\n",
       "      <td>0</td>\n",
       "    </tr>\n",
       "    <tr>\n",
       "      <th>2</th>\n",
       "      <td>đi học đầy đủ full điểm chuyên cần .</td>\n",
       "      <td>0</td>\n",
       "      <td>1</td>\n",
       "    </tr>\n",
       "    <tr>\n",
       "      <th>3</th>\n",
       "      <td>chưa áp dụng công nghệ thông tin và các thiết ...</td>\n",
       "      <td>0</td>\n",
       "      <td>0</td>\n",
       "    </tr>\n",
       "    <tr>\n",
       "      <th>4</th>\n",
       "      <td>thầy giảng bài hay , có nhiều bài tập ví dụ ng...</td>\n",
       "      <td>2</td>\n",
       "      <td>0</td>\n",
       "    </tr>\n",
       "    <tr>\n",
       "      <th>...</th>\n",
       "      <td>...</td>\n",
       "      <td>...</td>\n",
       "      <td>...</td>\n",
       "    </tr>\n",
       "    <tr>\n",
       "      <th>20234</th>\n",
       "      <td>The facilities of the university are versatile...</td>\n",
       "      <td>1</td>\n",
       "      <td>facility</td>\n",
       "    </tr>\n",
       "    <tr>\n",
       "      <th>20235</th>\n",
       "      <td>Cậu ấy rất có kỹ năng về sáng tạo và nghệ thuật.</td>\n",
       "      <td>1</td>\n",
       "      <td>others</td>\n",
       "    </tr>\n",
       "    <tr>\n",
       "      <th>20236</th>\n",
       "      <td>Anh ta là một người rất tỉ mỉ và cẩn thận.</td>\n",
       "      <td>1</td>\n",
       "      <td>others</td>\n",
       "    </tr>\n",
       "    <tr>\n",
       "      <th>20237</th>\n",
       "      <td>Giáo viên đưa ra các phương tiện hỗ trợ giảng ...</td>\n",
       "      <td>1</td>\n",
       "      <td>curriculum</td>\n",
       "    </tr>\n",
       "    <tr>\n",
       "      <th>20238</th>\n",
       "      <td>The university's computer facilities are up-to...</td>\n",
       "      <td>1</td>\n",
       "      <td>facility</td>\n",
       "    </tr>\n",
       "  </tbody>\n",
       "</table>\n",
       "<p>20239 rows × 3 columns</p>\n",
       "</div>"
      ],
      "text/plain": [
       "                                                    text  label       topic\n",
       "0                              slide giáo trình đầy đủ .      2           1\n",
       "1         nhiệt tình giảng dạy , gần gũi với sinh viên .      2           0\n",
       "2                   đi học đầy đủ full điểm chuyên cần .      0           1\n",
       "3      chưa áp dụng công nghệ thông tin và các thiết ...      0           0\n",
       "4      thầy giảng bài hay , có nhiều bài tập ví dụ ng...      2           0\n",
       "...                                                  ...    ...         ...\n",
       "20234  The facilities of the university are versatile...      1    facility\n",
       "20235   Cậu ấy rất có kỹ năng về sáng tạo và nghệ thuật.      1      others\n",
       "20236         Anh ta là một người rất tỉ mỉ và cẩn thận.      1      others\n",
       "20237  Giáo viên đưa ra các phương tiện hỗ trợ giảng ...      1  curriculum\n",
       "20238  The university's computer facilities are up-to...      1    facility\n",
       "\n",
       "[20239 rows x 3 columns]"
      ]
     },
     "execution_count": 120,
     "metadata": {},
     "output_type": "execute_result"
    }
   ],
   "source": [
    "data"
   ]
  },
  {
   "cell_type": "code",
   "execution_count": 88,
   "id": "a831ee78-5879-4130-b8c4-229dc4164818",
   "metadata": {},
   "outputs": [],
   "source": [
    "data.to_csv('data.csv', index=False)"
   ]
  },
  {
   "cell_type": "code",
   "execution_count": 89,
   "id": "a8bd22a2-26cc-43b4-82bf-51092f456628",
   "metadata": {},
   "outputs": [
    {
     "name": "stdout",
     "output_type": "stream",
     "text": [
      "<class 'pandas.core.frame.DataFrame'>\n",
      "RangeIndex: 20874 entries, 0 to 20873\n",
      "Data columns (total 2 columns):\n",
      " #   Column  Non-Null Count  Dtype \n",
      "---  ------  --------------  ----- \n",
      " 0   text    20874 non-null  object\n",
      " 1   label   20874 non-null  int64 \n",
      "dtypes: int64(1), object(1)\n",
      "memory usage: 326.3+ KB\n"
     ]
    }
   ],
   "source": [
    "data.info()"
   ]
  },
  {
   "cell_type": "code",
   "execution_count": 90,
   "id": "ba0a073f-34af-491a-8d05-6370d0caf4bb",
   "metadata": {
    "scrolled": true
   },
   "outputs": [
    {
     "data": {
      "text/plain": [
       "text     0\n",
       "label    0\n",
       "dtype: int64"
      ]
     },
     "execution_count": 90,
     "metadata": {},
     "output_type": "execute_result"
    }
   ],
   "source": [
    "data.isnull().sum()"
   ]
  },
  {
   "cell_type": "code",
   "execution_count": 91,
   "id": "54ee00c2-35db-475d-9575-f638b610ff72",
   "metadata": {
    "scrolled": true
   },
   "outputs": [
    {
     "name": "stdout",
     "output_type": "stream",
     "text": [
      "                                                    text  label\n",
      "11292  thầy dạy hay , tuy nhiên còn nhiều chỗ chưa th...      2\n",
      "11416  thầy dạy hay , tuy nhiên còn nhiều chỗ chưa th...      0\n",
      "16413                             Em không có ý kiến gì.      1\n",
      "16417                                 Chưa có gì để nói.      1\n",
      "16421                        Em không có gì để nói thêm.      1\n",
      "...                                                  ...    ...\n",
      "20869  The facilities of the university are versatile...      1\n",
      "20870   Cậu ấy rất có kỹ năng về sáng tạo và nghệ thuật.      1\n",
      "20871         Anh ta là một người rất tỉ mỉ và cẩn thận.      1\n",
      "20872  Giáo viên đưa ra các phương tiện hỗ trợ giảng ...      1\n",
      "20873  The university's computer facilities are up-to...      1\n",
      "\n",
      "[1406 rows x 2 columns]\n"
     ]
    }
   ],
   "source": [
    "duplicates = data[data.duplicated(subset='text', keep=False)]\n",
    "print(duplicates)"
   ]
  },
  {
   "cell_type": "code",
   "execution_count": 92,
   "id": "44f7c645-2624-48f2-984c-971b5c9aa1bc",
   "metadata": {},
   "outputs": [],
   "source": [
    "data = data.drop_duplicates(subset=['text'], keep='first')"
   ]
  },
  {
   "cell_type": "code",
   "execution_count": 93,
   "id": "2175fee4-7b1d-418f-b110-dbbbe69876e6",
   "metadata": {},
   "outputs": [
    {
     "data": {
      "text/html": [
       "<div>\n",
       "<style scoped>\n",
       "    .dataframe tbody tr th:only-of-type {\n",
       "        vertical-align: middle;\n",
       "    }\n",
       "\n",
       "    .dataframe tbody tr th {\n",
       "        vertical-align: top;\n",
       "    }\n",
       "\n",
       "    .dataframe thead th {\n",
       "        text-align: right;\n",
       "    }\n",
       "</style>\n",
       "<table border=\"1\" class=\"dataframe\">\n",
       "  <thead>\n",
       "    <tr style=\"text-align: right;\">\n",
       "      <th></th>\n",
       "      <th>text</th>\n",
       "      <th>label</th>\n",
       "    </tr>\n",
       "  </thead>\n",
       "  <tbody>\n",
       "    <tr>\n",
       "      <th>0</th>\n",
       "      <td>slide giáo trình đầy đủ .</td>\n",
       "      <td>2</td>\n",
       "    </tr>\n",
       "    <tr>\n",
       "      <th>1</th>\n",
       "      <td>nhiệt tình giảng dạy , gần gũi với sinh viên .</td>\n",
       "      <td>2</td>\n",
       "    </tr>\n",
       "    <tr>\n",
       "      <th>2</th>\n",
       "      <td>đi học đầy đủ full điểm chuyên cần .</td>\n",
       "      <td>0</td>\n",
       "    </tr>\n",
       "    <tr>\n",
       "      <th>3</th>\n",
       "      <td>chưa áp dụng công nghệ thông tin và các thiết ...</td>\n",
       "      <td>0</td>\n",
       "    </tr>\n",
       "    <tr>\n",
       "      <th>4</th>\n",
       "      <td>thầy giảng bài hay , có nhiều bài tập ví dụ ng...</td>\n",
       "      <td>2</td>\n",
       "    </tr>\n",
       "    <tr>\n",
       "      <th>...</th>\n",
       "      <td>...</td>\n",
       "      <td>...</td>\n",
       "    </tr>\n",
       "    <tr>\n",
       "      <th>20199</th>\n",
       "      <td>The facilities of the university are versatile...</td>\n",
       "      <td>1</td>\n",
       "    </tr>\n",
       "    <tr>\n",
       "      <th>20200</th>\n",
       "      <td>Cậu ấy rất có kỹ năng về sáng tạo và nghệ thuật.</td>\n",
       "      <td>1</td>\n",
       "    </tr>\n",
       "    <tr>\n",
       "      <th>20201</th>\n",
       "      <td>Anh ta là một người rất tỉ mỉ và cẩn thận.</td>\n",
       "      <td>1</td>\n",
       "    </tr>\n",
       "    <tr>\n",
       "      <th>20202</th>\n",
       "      <td>Giáo viên đưa ra các phương tiện hỗ trợ giảng ...</td>\n",
       "      <td>1</td>\n",
       "    </tr>\n",
       "    <tr>\n",
       "      <th>20203</th>\n",
       "      <td>The university's computer facilities are up-to...</td>\n",
       "      <td>1</td>\n",
       "    </tr>\n",
       "  </tbody>\n",
       "</table>\n",
       "<p>20155 rows × 2 columns</p>\n",
       "</div>"
      ],
      "text/plain": [
       "                                                    text  label\n",
       "0                              slide giáo trình đầy đủ .      2\n",
       "1         nhiệt tình giảng dạy , gần gũi với sinh viên .      2\n",
       "2                   đi học đầy đủ full điểm chuyên cần .      0\n",
       "3      chưa áp dụng công nghệ thông tin và các thiết ...      0\n",
       "4      thầy giảng bài hay , có nhiều bài tập ví dụ ng...      2\n",
       "...                                                  ...    ...\n",
       "20199  The facilities of the university are versatile...      1\n",
       "20200   Cậu ấy rất có kỹ năng về sáng tạo và nghệ thuật.      1\n",
       "20201         Anh ta là một người rất tỉ mỉ và cẩn thận.      1\n",
       "20202  Giáo viên đưa ra các phương tiện hỗ trợ giảng ...      1\n",
       "20203  The university's computer facilities are up-to...      1\n",
       "\n",
       "[20155 rows x 2 columns]"
      ]
     },
     "execution_count": 93,
     "metadata": {},
     "output_type": "execute_result"
    }
   ],
   "source": [
    "data"
   ]
  },
  {
   "cell_type": "code",
   "execution_count": 94,
   "id": "82ced670-cbbb-435a-b686-6a12e9e99004",
   "metadata": {
    "scrolled": true
   },
   "outputs": [
    {
     "data": {
      "image/png": "[encoded data removed]",
      "text/plain": [
       "<Figure size 640x480 with 1 Axes>"
      ]
     },
     "metadata": {},
     "output_type": "display_data"
    }
   ],
   "source": [
    "import seaborn as sb\n",
    "x = sb.countplot(x='label',data=data)"
   ]
  },
  {
   "cell_type": "code",
   "execution_count": 95,
   "id": "74f333ab-aab3-4a80-bff4-a126d355ac03",
   "metadata": {},
   "outputs": [
    {
     "data": {
      "text/html": [
       "<div>\n",
       "<style scoped>\n",
       "    .dataframe tbody tr th:only-of-type {\n",
       "        vertical-align: middle;\n",
       "    }\n",
       "\n",
       "    .dataframe tbody tr th {\n",
       "        vertical-align: top;\n",
       "    }\n",
       "\n",
       "    .dataframe thead th {\n",
       "        text-align: right;\n",
       "    }\n",
       "</style>\n",
       "<table border=\"1\" class=\"dataframe\">\n",
       "  <thead>\n",
       "    <tr style=\"text-align: right;\">\n",
       "      <th></th>\n",
       "      <th>text</th>\n",
       "      <th>label</th>\n",
       "    </tr>\n",
       "  </thead>\n",
       "  <tbody>\n",
       "  </tbody>\n",
       "</table>\n",
       "</div>"
      ],
      "text/plain": [
       "Empty DataFrame\n",
       "Columns: [text, label]\n",
       "Index: []"
      ]
     },
     "execution_count": 95,
     "metadata": {},
     "output_type": "execute_result"
    }
   ],
   "source": [
    "data[data['label']==') .']"
   ]
  },
  {
   "cell_type": "code",
   "execution_count": 96,
   "id": "29e1e81a-2851-4d63-88ff-aa79b1297975",
   "metadata": {},
   "outputs": [],
   "source": [
    "# import re\n",
    "# from tqdm import tqdm\n",
    "\n",
    "# # Làm sạch dữ liệu trong DataFrame gốc\n",
    "# data[\"text\"] = data[\"text\"].str.strip().str.replace(\"\\n\", \" \")\n",
    "\n",
    "# # Tiền xử lý: chuyển thường, loại bỏ ký tự đặc biệt, khoảng trắng dư thừa\n",
    "# texts = [re.sub(r\"[^\\w\\s]\", \"\", t.lower()) for t in data[\"text\"]]\n",
    "# texts = [' '.join(t.split()) for t in texts]\n",
    "\n",
    "# # Tokenization thủ công (nếu muốn giữ dưới dạng list các từ)\n",
    "# tokens = [t.split() for t in texts]\n",
    "\n",
    "# # Ghép lại thành văn bản nếu cần đầu ra là string\n",
    "# texts = [' '.join(t) for t in tokens]"
   ]
  },
  {
   "cell_type": "code",
   "execution_count": 97,
   "id": "1a3c5421-a3c0-4f90-a77f-1103c1dfd06d",
   "metadata": {},
   "outputs": [],
   "source": [
    "emoji_pattern = re.compile(\"[\"\n",
    "                u\"\\U0001F600-\\U0001F64F\"\n",
    "                u\"\\U0001F300-\\U0001F5FF\" \n",
    "                u\"\\U0001F680-\\U0001F6FF\"  \n",
    "                u\"\\U0001F1E0-\\U0001F1FF\"  \n",
    "                u\"\\U00002702-\\U000027B0\"\n",
    "                u\"\\U000024C2-\\U0001F251\"\n",
    "                u\"\\U0001f926-\\U0001f937\"\n",
    "                u'\\U00010000-\\U0010ffff'\n",
    "                u\"\\u200d\"\n",
    "                u\"\\u2640-\\u2642\"\n",
    "                u\"\\u2600-\\u2B55\"\n",
    "                u\"\\u23cf\"\n",
    "                u\"\\u23e9\"\n",
    "                u\"\\u231a\"\n",
    "                u\"\\u3030\"\n",
    "                u\"\\ufe0f\"\n",
    "    \"]+\", flags=re.UNICODE) # Unicode emojis. \n",
    "\n",
    "def clean_text(text):\n",
    "    text = text.lower() # lowercase text\n",
    "    \n",
    "    text = re.sub(emoji_pattern, \" \", text) # remove emojis\n",
    "    \n",
    "    text = re.sub(r'([a-z]+?)\\1+',r'\\1', text) # reduce repeated character (e.g. 'aaabbb' -> 'ab')\n",
    "    \n",
    "    # Ensure space before and after any punctuation mark\n",
    "    text = re.sub(r\"(\\w)\\s*([\" + string.punctuation + \"])\\s*(\\w)\", r\"\\1 \\2 \\3\", text)\n",
    "    text = re.sub(r\"(\\w)\\s*([\" + string.punctuation + \"])\", r\"\\1 \\2\", text)\n",
    "    \n",
    "    text = re.sub(f\"([{string.punctuation}])([{string.punctuation}])+\",r\"\\1\", text) # reduce consecutive punctuation\n",
    "    \n",
    "    # Remove any leading or trailing spaces, or leading or trailing punctuation marks from the text\n",
    "    text = text.strip()\n",
    "    while text.endswith(tuple(string.punctuation+string.whitespace)):\n",
    "        text = text[:-1]\n",
    "    while text.startswith(tuple(string.punctuation+string.whitespace)):\n",
    "        text = text[1:]\n",
    "        \n",
    "    text = text.translate(str.maketrans('', '', string.punctuation)) # remove all punctuation\n",
    "        \n",
    "    text = re.sub(r\"\\s+\", \" \", text) # reduce multiple spaces\n",
    "    \n",
    "    text = text_normalize(text) # make sure punctunation is in the right letter (Vietnamese case)\n",
    "    text = word_tokenize(text, format=\"text\") # tokenize the cleaned text\n",
    "    # text = unidecode(text) # remove accent marks from sentences (no significant difference when accent marks is removed or kept)\n",
    "    \n",
    "    '''\n",
    "    Proper tokenization allows models or algorithms to understand the semantics of the text better. \n",
    "    For instance, `\"đi chơi\" (go play)` should be treated as one unit \n",
    "    instead of two separate words \"đi\" (go) and \"chơi\" (play) for proper semantic understanding.\n",
    "    '''\n",
    "    return text"
   ]
  },
  {
   "cell_type": "code",
   "execution_count": 98,
   "id": "bb209de5-c977-4bc3-bb3a-e1c3c282e3f5",
   "metadata": {},
   "outputs": [
    {
     "name": "stderr",
     "output_type": "stream",
     "text": [
      "/tmp/ipykernel_6340/4049566014.py:1: SettingWithCopyWarning: \n",
      "A value is trying to be set on a copy of a slice from a DataFrame.\n",
      "Try using .loc[row_indexer,col_indexer] = value instead\n",
      "\n",
      "See the caveats in the documentation: https://pandas.pydata.org/pandas-docs/stable/user_guide/indexing.html#returning-a-view-versus-a-copy\n",
      "  data['corpus'] = data['text'].map(lambda text: clean_text(text))\n"
     ]
    },
    {
     "data": {
      "text/html": [
       "<div>\n",
       "<style scoped>\n",
       "    .dataframe tbody tr th:only-of-type {\n",
       "        vertical-align: middle;\n",
       "    }\n",
       "\n",
       "    .dataframe tbody tr th {\n",
       "        vertical-align: top;\n",
       "    }\n",
       "\n",
       "    .dataframe thead th {\n",
       "        text-align: right;\n",
       "    }\n",
       "</style>\n",
       "<table border=\"1\" class=\"dataframe\">\n",
       "  <thead>\n",
       "    <tr style=\"text-align: right;\">\n",
       "      <th></th>\n",
       "      <th>text</th>\n",
       "      <th>label</th>\n",
       "      <th>corpus</th>\n",
       "    </tr>\n",
       "  </thead>\n",
       "  <tbody>\n",
       "    <tr>\n",
       "      <th>0</th>\n",
       "      <td>slide giáo trình đầy đủ .</td>\n",
       "      <td>2</td>\n",
       "      <td>slide giáo_trình đầy_đủ</td>\n",
       "    </tr>\n",
       "    <tr>\n",
       "      <th>1</th>\n",
       "      <td>nhiệt tình giảng dạy , gần gũi với sinh viên .</td>\n",
       "      <td>2</td>\n",
       "      <td>nhiệt_tình giảng_dạy gần_gũi với sinh_viên</td>\n",
       "    </tr>\n",
       "    <tr>\n",
       "      <th>2</th>\n",
       "      <td>đi học đầy đủ full điểm chuyên cần .</td>\n",
       "      <td>0</td>\n",
       "      <td>đi học đầy_đủ ful_điểm chuyên cần</td>\n",
       "    </tr>\n",
       "    <tr>\n",
       "      <th>3</th>\n",
       "      <td>chưa áp dụng công nghệ thông tin và các thiết ...</td>\n",
       "      <td>0</td>\n",
       "      <td>chưa áp_dụng công_nghệ_thông_tin và các thiết_...</td>\n",
       "    </tr>\n",
       "    <tr>\n",
       "      <th>4</th>\n",
       "      <td>thầy giảng bài hay , có nhiều bài tập ví dụ ng...</td>\n",
       "      <td>2</td>\n",
       "      <td>thầy giảng bài hay có nhiều bài_tập ví_dụ ngay...</td>\n",
       "    </tr>\n",
       "    <tr>\n",
       "      <th>...</th>\n",
       "      <td>...</td>\n",
       "      <td>...</td>\n",
       "      <td>...</td>\n",
       "    </tr>\n",
       "    <tr>\n",
       "      <th>20199</th>\n",
       "      <td>The facilities of the university are versatile...</td>\n",
       "      <td>1</td>\n",
       "      <td>the facilities of_the university are versatile...</td>\n",
       "    </tr>\n",
       "    <tr>\n",
       "      <th>20200</th>\n",
       "      <td>Cậu ấy rất có kỹ năng về sáng tạo và nghệ thuật.</td>\n",
       "      <td>1</td>\n",
       "      <td>cậu ấy rất có kỹ_năng về sáng_tạo và nghệ_thuật</td>\n",
       "    </tr>\n",
       "    <tr>\n",
       "      <th>20201</th>\n",
       "      <td>Anh ta là một người rất tỉ mỉ và cẩn thận.</td>\n",
       "      <td>1</td>\n",
       "      <td>anh ta là một người rất tỉ_mỉ và cẩn_thận</td>\n",
       "    </tr>\n",
       "    <tr>\n",
       "      <th>20202</th>\n",
       "      <td>Giáo viên đưa ra các phương tiện hỗ trợ giảng ...</td>\n",
       "      <td>1</td>\n",
       "      <td>giáo_viên đưa ra các phương_tiện hỗ_trợ giảng_...</td>\n",
       "    </tr>\n",
       "    <tr>\n",
       "      <th>20203</th>\n",
       "      <td>The university's computer facilities are up-to...</td>\n",
       "      <td>1</td>\n",
       "      <td>the university s computer facilities are up to...</td>\n",
       "    </tr>\n",
       "  </tbody>\n",
       "</table>\n",
       "<p>20155 rows × 3 columns</p>\n",
       "</div>"
      ],
      "text/plain": [
       "                                                    text  label  \\\n",
       "0                              slide giáo trình đầy đủ .      2   \n",
       "1         nhiệt tình giảng dạy , gần gũi với sinh viên .      2   \n",
       "2                   đi học đầy đủ full điểm chuyên cần .      0   \n",
       "3      chưa áp dụng công nghệ thông tin và các thiết ...      0   \n",
       "4      thầy giảng bài hay , có nhiều bài tập ví dụ ng...      2   \n",
       "...                                                  ...    ...   \n",
       "20199  The facilities of the university are versatile...      1   \n",
       "20200   Cậu ấy rất có kỹ năng về sáng tạo và nghệ thuật.      1   \n",
       "20201         Anh ta là một người rất tỉ mỉ và cẩn thận.      1   \n",
       "20202  Giáo viên đưa ra các phương tiện hỗ trợ giảng ...      1   \n",
       "20203  The university's computer facilities are up-to...      1   \n",
       "\n",
       "                                                  corpus  \n",
       "0                                slide giáo_trình đầy_đủ  \n",
       "1             nhiệt_tình giảng_dạy gần_gũi với sinh_viên  \n",
       "2                      đi học đầy_đủ ful_điểm chuyên cần  \n",
       "3      chưa áp_dụng công_nghệ_thông_tin và các thiết_...  \n",
       "4      thầy giảng bài hay có nhiều bài_tập ví_dụ ngay...  \n",
       "...                                                  ...  \n",
       "20199  the facilities of_the university are versatile...  \n",
       "20200    cậu ấy rất có kỹ_năng về sáng_tạo và nghệ_thuật  \n",
       "20201          anh ta là một người rất tỉ_mỉ và cẩn_thận  \n",
       "20202  giáo_viên đưa ra các phương_tiện hỗ_trợ giảng_...  \n",
       "20203  the university s computer facilities are up to...  \n",
       "\n",
       "[20155 rows x 3 columns]"
      ]
     },
     "execution_count": 98,
     "metadata": {},
     "output_type": "execute_result"
    }
   ],
   "source": [
    "data['corpus'] = data['text'].map(lambda text: clean_text(text))                                                     \n",
    "# Final check\n",
    "data"
   ]
  },
  {
   "cell_type": "code",
   "execution_count": 99,
   "id": "fe7e1da6-dcd3-45c1-be34-0d9b83cef21b",
   "metadata": {
    "scrolled": true
   },
   "outputs": [],
   "source": [
    "# texts = data['corpus']\n",
    "# len(texts)"
   ]
  },
  {
   "cell_type": "code",
   "execution_count": 100,
   "id": "85ea01e6-6911-4ef2-b9b5-08f67b723ced",
   "metadata": {},
   "outputs": [],
   "source": [
    "\n",
    "# labels = data['label'].map({'negative': 0, 'positive': 1, 'neutral': 2}).tolist()\n",
    "# labels = data['label']\n",
    "labels = data['label'].tolist()\n",
    "texts = data['corpus']\n",
    "# dataset = SentimentDataset(texts, labels)\n",
    "\n",
    "# tokenized_texts = [word_tokenize(t) for t in texts]\n",
    "\n",
    "tokenized_texts = [\n",
    "    [word for word in word_tokenize(t) if word not in vietnamese_stopwords]\n",
    "    for t in texts\n",
    "]"
   ]
  },
  {
   "cell_type": "code",
   "execution_count": 101,
   "id": "6368e52f-b8f7-4ebe-8535-02ec9952a293",
   "metadata": {
    "scrolled": true
   },
   "outputs": [
    {
     "name": "stdout",
     "output_type": "stream",
     "text": [
      "20155 20155\n"
     ]
    }
   ],
   "source": [
    "print(len(texts), len(labels))  # Cần phải bằng nhau"
   ]
  },
  {
   "cell_type": "code",
   "execution_count": 102,
   "id": "cce2500f-55fd-4d11-bbee-cc013c52d099",
   "metadata": {},
   "outputs": [
    {
     "name": "stdout",
     "output_type": "stream",
     "text": [
      "Max length: 61\n",
      "Mean length: 5.763284544777971\n",
      "Median length: 5.0\n",
      "90th percentile: 10.0\n",
      "95th percentile: 13.0\n",
      "99th percentile: 19.0\n"
     ]
    },
    {
     "data": {
      "image/png": "[encoded data removed]",
      "text/plain": [
       "<Figure size 640x480 with 1 Axes>"
      ]
     },
     "metadata": {},
     "output_type": "display_data"
    }
   ],
   "source": [
    "import numpy as np\n",
    "import matplotlib.pyplot as plt\n",
    "import seaborn as sns\n",
    "lengths = [len(seq) for seq in tokenized_texts]\n",
    "\n",
    "print(\"Max length:\", max(lengths))\n",
    "print(\"Mean length:\", np.mean(lengths))\n",
    "print(\"Median length:\", np.median(lengths))\n",
    "print(\"90th percentile:\", np.percentile(lengths, 90))\n",
    "print(\"95th percentile:\", np.percentile(lengths, 95))\n",
    "print(\"99th percentile:\", np.percentile(lengths, 99))\n",
    "\n",
    "sns.histplot(lengths, bins=50, kde=True)\n",
    "plt.title(\"Phân phối độ dài câu (sau token hóa)\")\n",
    "plt.xlabel(\"Số token\")\n",
    "plt.ylabel(\"Số lượng văn bản\")\n",
    "plt.grid(True)\n",
    "plt.show()"
   ]
  },
  {
   "cell_type": "code",
   "execution_count": 103,
   "id": "b4ce9189-3b65-4db9-9c8c-f600f9be7ee3",
   "metadata": {
    "scrolled": true
   },
   "outputs": [],
   "source": [
    "\n",
    "all_words = [w for txt in tokenized_texts for w in txt]\n",
    "most_common = Counter(all_words).most_common(4998)\n",
    "\n",
    "vocab = {'<PAD>': 0, '<UNK>': 1}\n",
    "for i, (w, _) in enumerate(most_common, 2):\n",
    "    vocab[w] = i\n",
    "\n",
    "def to_indices(tokens, max_len):\n",
    "    idxs = [vocab.get(t, 1) for t in tokens][:max_len]\n",
    "    return idxs + [0] * (max_len - len(idxs))\n",
    "\n",
    "max_len_text = 20\n",
    "text_indices = [to_indices(t, max_len_text) for t in tokenized_texts]"
   ]
  },
  {
   "cell_type": "code",
   "execution_count": 104,
   "id": "48f40e90-5011-4a0b-91d0-d9ac895cfb70",
   "metadata": {},
   "outputs": [],
   "source": [
    "train_texts, test_texts, train_labels, test_labels = train_test_split(text_indices, labels, test_size=0.2, random_state=42)"
   ]
  },
  {
   "cell_type": "code",
   "execution_count": 105,
   "id": "7d078c23-2040-4b1d-a2ee-67312e654545",
   "metadata": {},
   "outputs": [],
   "source": [
    "train_dataset = SentimentDataset(train_texts, train_labels)\n",
    "test_dataset = SentimentDataset(test_texts, test_labels)\n",
    "train_loader = DataLoader(train_dataset, batch_size=32)\n",
    "test_loader = DataLoader(test_dataset, batch_size=32)"
   ]
  },
  {
   "cell_type": "code",
   "execution_count": 106,
   "id": "aa07daa7-71bc-4dfc-b20e-75a9f58a6e8a",
   "metadata": {},
   "outputs": [],
   "source": [
    "data_to_save = {\n",
    "    'train_loader': train_loader,\n",
    "    'test_loader': test_loader,\n",
    "    'batch_size': 32,\n",
    "    'vocab': vocab,\n",
    "    'vocab_size': len(vocab)\n",
    "}\n",
    "save_path = 'sentiment_data_loader.pth'\n",
    "torch.save(data_to_save, save_path)"
   ]
  },
  {
   "cell_type": "markdown",
   "id": "6be1bb89-ab49-4fcd-b4f6-17d7383f600f",
   "metadata": {},
   "source": []
  },
  {
   "cell_type": "code",
   "execution_count": null,
   "id": "d3edd4b0-58e9-4dac-a031-e723d6265b00",
   "metadata": {},
   "outputs": [],
   "source": []
  }
 ],
 "metadata": {
  "kernelspec": {
   "display_name": "Python 3 (ipykernel)",
   "language": "python",
   "name": "python3"
  },
  "language_info": {
   "codemirror_mode": {
    "name": "ipython",
    "version": 3
   },
   "file_extension": ".py",
   "mimetype": "text/x-python",
   "name": "python",
   "nbconvert_exporter": "python",
   "pygments_lexer": "ipython3",
   "version": "3.10.16"
  }
 },
 "nbformat": 4,
 "nbformat_minor": 5
}
