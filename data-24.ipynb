{
 "cells": [
  {
   "cell_type": "code",
   "execution_count": 263,
   "id": "cd7cbe43-703a-4be0-98fe-92bb5b8a3c01",
   "metadata": {
    "scrolled": true
   },
   "outputs": [
    {
     "name": "stderr",
     "output_type": "stream",
     "text": [
      "[nltk_data] Downloading package punkt to /home/vuong/nltk_data...\n",
      "[nltk_data]   Package punkt is already up-to-date!\n"
     ]
    }
   ],
   "source": [
    "import pandas as pd\n",
    "import torch\n",
    "from torch.utils.data import Dataset, DataLoader\n",
    "from nltk.tokenize import word_tokenize\n",
    "import nltk\n",
    "from sklearn.model_selection import train_test_split\n",
    "from collections import Counter\n",
    "import re\n",
    "from datasets import load_dataset\n",
    "from classes import SentimentDataset\n",
    "from collections import Counter\n",
    "from tqdm import tqdm\n",
    "from nltk.tokenize import word_tokenize, RegexpTokenizer\n",
    "nltk.download('punkt')\n",
    "from stopwordsiso import stopwords\n"
   ]
  },
  {
   "cell_type": "code",
   "execution_count": 264,
   "id": "736280a4-43d2-44e5-8c4f-b6fc3fa77c74",
   "metadata": {
    "scrolled": true
   },
   "outputs": [
    {
     "name": "stderr",
     "output_type": "stream",
     "text": [
      "[nltk_data] Downloading package punkt to /home/vuong/nltk_data...\n",
      "[nltk_data]   Unzipping tokenizers/punkt.zip.\n",
      "[nltk_data] Downloading package punkt_tab to /home/vuong/nltk_data...\n",
      "[nltk_data]   Package punkt_tab is already up-to-date!\n"
     ]
    }
   ],
   "source": [
    "nltk.data.find('tokenizers/punkt')  # Kiểm tra xem đã có chưa\n",
    "nltk.download('punkt', force=True)\n",
    "nltk.download('punkt_tab')\n",
    "vietnamese_stopwords = stopwords(['vi'])"
   ]
  },
  {
   "cell_type": "code",
   "execution_count": 265,
   "id": "65bb9765-ac0a-4436-aac6-79864567dedc",
   "metadata": {},
   "outputs": [],
   "source": [
    "# data = pd.read_csv('sentiment.csv').dropna()\n",
    "# data\n",
    "from datasets import load_dataset\n",
    "import dataset\n",
    "\n",
    "ds = load_dataset(\"uitnlp/vietnamese_students_feedback\")\n",
    "# Chuyển tập train từ Hugging Face dataset sang pandas DataFrame\n",
    "data= ds['train'].to_pandas()\n",
    "data = data.rename(columns={'sentence': 'text', 'sentiment': 'label'})\n",
    "\n",
    "val_df = ds['validation'].to_pandas()\n",
    "test_df = ds['test'].to_pandas()"
   ]
  },
  {
   "cell_type": "code",
   "execution_count": 266,
   "id": "f53363cb-7a7e-4d16-8875-d46235808ffe",
   "metadata": {},
   "outputs": [
    {
     "data": {
      "text/html": [
       "<div>\n",
       "<style scoped>\n",
       "    .dataframe tbody tr th:only-of-type {\n",
       "        vertical-align: middle;\n",
       "    }\n",
       "\n",
       "    .dataframe tbody tr th {\n",
       "        vertical-align: top;\n",
       "    }\n",
       "\n",
       "    .dataframe thead th {\n",
       "        text-align: right;\n",
       "    }\n",
       "</style>\n",
       "<table border=\"1\" class=\"dataframe\">\n",
       "  <thead>\n",
       "    <tr style=\"text-align: right;\">\n",
       "      <th></th>\n",
       "      <th>text</th>\n",
       "      <th>label</th>\n",
       "      <th>topic</th>\n",
       "    </tr>\n",
       "  </thead>\n",
       "  <tbody>\n",
       "    <tr>\n",
       "      <th>0</th>\n",
       "      <td>slide giáo trình đầy đủ .</td>\n",
       "      <td>2</td>\n",
       "      <td>1</td>\n",
       "    </tr>\n",
       "    <tr>\n",
       "      <th>1</th>\n",
       "      <td>nhiệt tình giảng dạy , gần gũi với sinh viên .</td>\n",
       "      <td>2</td>\n",
       "      <td>0</td>\n",
       "    </tr>\n",
       "    <tr>\n",
       "      <th>2</th>\n",
       "      <td>đi học đầy đủ full điểm chuyên cần .</td>\n",
       "      <td>0</td>\n",
       "      <td>1</td>\n",
       "    </tr>\n",
       "    <tr>\n",
       "      <th>3</th>\n",
       "      <td>chưa áp dụng công nghệ thông tin và các thiết ...</td>\n",
       "      <td>0</td>\n",
       "      <td>0</td>\n",
       "    </tr>\n",
       "    <tr>\n",
       "      <th>4</th>\n",
       "      <td>thầy giảng bài hay , có nhiều bài tập ví dụ ng...</td>\n",
       "      <td>2</td>\n",
       "      <td>0</td>\n",
       "    </tr>\n",
       "    <tr>\n",
       "      <th>...</th>\n",
       "      <td>...</td>\n",
       "      <td>...</td>\n",
       "      <td>...</td>\n",
       "    </tr>\n",
       "    <tr>\n",
       "      <th>11421</th>\n",
       "      <td>chỉ vì môn game mà em học hai lần mà không qua...</td>\n",
       "      <td>0</td>\n",
       "      <td>1</td>\n",
       "    </tr>\n",
       "    <tr>\n",
       "      <th>11422</th>\n",
       "      <td>em cảm ơn cô nhiều .</td>\n",
       "      <td>2</td>\n",
       "      <td>0</td>\n",
       "    </tr>\n",
       "    <tr>\n",
       "      <th>11423</th>\n",
       "      <td>giao bài tập quá nhiều .</td>\n",
       "      <td>0</td>\n",
       "      <td>0</td>\n",
       "    </tr>\n",
       "    <tr>\n",
       "      <th>11424</th>\n",
       "      <td>giáo viên dạy dễ hiểu , nhiệt tình .</td>\n",
       "      <td>2</td>\n",
       "      <td>0</td>\n",
       "    </tr>\n",
       "    <tr>\n",
       "      <th>11425</th>\n",
       "      <td>gói gọn doubledot hay , tận tình , phù hợp với...</td>\n",
       "      <td>2</td>\n",
       "      <td>0</td>\n",
       "    </tr>\n",
       "  </tbody>\n",
       "</table>\n",
       "<p>11426 rows × 3 columns</p>\n",
       "</div>"
      ],
      "text/plain": [
       "                                                    text  label  topic\n",
       "0                              slide giáo trình đầy đủ .      2      1\n",
       "1         nhiệt tình giảng dạy , gần gũi với sinh viên .      2      0\n",
       "2                   đi học đầy đủ full điểm chuyên cần .      0      1\n",
       "3      chưa áp dụng công nghệ thông tin và các thiết ...      0      0\n",
       "4      thầy giảng bài hay , có nhiều bài tập ví dụ ng...      2      0\n",
       "...                                                  ...    ...    ...\n",
       "11421  chỉ vì môn game mà em học hai lần mà không qua...      0      1\n",
       "11422                               em cảm ơn cô nhiều .      2      0\n",
       "11423                           giao bài tập quá nhiều .      0      0\n",
       "11424               giáo viên dạy dễ hiểu , nhiệt tình .      2      0\n",
       "11425  gói gọn doubledot hay , tận tình , phù hợp với...      2      0\n",
       "\n",
       "[11426 rows x 3 columns]"
      ]
     },
     "execution_count": 266,
     "metadata": {},
     "output_type": "execute_result"
    }
   ],
   "source": [
    "data"
   ]
  },
  {
   "cell_type": "code",
   "execution_count": 267,
   "id": "a8bd22a2-26cc-43b4-82bf-51092f456628",
   "metadata": {},
   "outputs": [
    {
     "name": "stdout",
     "output_type": "stream",
     "text": [
      "<class 'pandas.core.frame.DataFrame'>\n",
      "RangeIndex: 11426 entries, 0 to 11425\n",
      "Data columns (total 3 columns):\n",
      " #   Column  Non-Null Count  Dtype \n",
      "---  ------  --------------  ----- \n",
      " 0   text    11426 non-null  object\n",
      " 1   label   11426 non-null  int64 \n",
      " 2   topic   11426 non-null  int64 \n",
      "dtypes: int64(2), object(1)\n",
      "memory usage: 267.9+ KB\n"
     ]
    }
   ],
   "source": [
    "data.info()"
   ]
  },
  {
   "cell_type": "code",
   "execution_count": 268,
   "id": "ba0a073f-34af-491a-8d05-6370d0caf4bb",
   "metadata": {
    "scrolled": true
   },
   "outputs": [
    {
     "data": {
      "text/plain": [
       "text     0\n",
       "label    0\n",
       "topic    0\n",
       "dtype: int64"
      ]
     },
     "execution_count": 268,
     "metadata": {},
     "output_type": "execute_result"
    }
   ],
   "source": [
    "data.isnull().sum()"
   ]
  },
  {
   "cell_type": "code",
   "execution_count": 269,
   "id": "54ee00c2-35db-475d-9575-f638b610ff72",
   "metadata": {
    "scrolled": true
   },
   "outputs": [
    {
     "name": "stdout",
     "output_type": "stream",
     "text": [
      "                                                    text  label  topic\n",
      "11293  thầy dạy hay , tuy nhiên còn nhiều chỗ chưa th...      2      0\n",
      "11417  thầy dạy hay , tuy nhiên còn nhiều chỗ chưa th...      0      0\n"
     ]
    }
   ],
   "source": [
    "duplicates = data[data.duplicated(subset='text', keep=False)]\n",
    "print(duplicates)"
   ]
  },
  {
   "cell_type": "code",
   "execution_count": 270,
   "id": "44f7c645-2624-48f2-984c-971b5c9aa1bc",
   "metadata": {},
   "outputs": [],
   "source": [
    "data = data.drop_duplicates(subset=['text'], keep='first')"
   ]
  },
  {
   "cell_type": "code",
   "execution_count": 271,
   "id": "82ced670-cbbb-435a-b686-6a12e9e99004",
   "metadata": {
    "scrolled": true
   },
   "outputs": [
    {
     "data": {
      "image/png": "[encoded data removed]",
      "text/plain": [
       "<Figure size 640x480 with 1 Axes>"
      ]
     },
     "metadata": {},
     "output_type": "display_data"
    }
   ],
   "source": [
    "import seaborn as sb\n",
    "x = sb.countplot(x='label',data=data)"
   ]
  },
  {
   "cell_type": "code",
   "execution_count": 272,
   "id": "b75ae643-a0ca-46ea-8c0b-73ea4aff438b",
   "metadata": {},
   "outputs": [
    {
     "name": "stdout",
     "output_type": "stream",
     "text": [
      "<class 'pandas.core.frame.DataFrame'>\n",
      "Index: 11425 entries, 0 to 11425\n",
      "Data columns (total 3 columns):\n",
      " #   Column  Non-Null Count  Dtype \n",
      "---  ------  --------------  ----- \n",
      " 0   text    11425 non-null  object\n",
      " 1   label   11425 non-null  int64 \n",
      " 2   topic   11425 non-null  int64 \n",
      "dtypes: int64(2), object(1)\n",
      "memory usage: 357.0+ KB\n"
     ]
    }
   ],
   "source": [
    "data.info()"
   ]
  },
  {
   "cell_type": "code",
   "execution_count": 273,
   "id": "61ef3312-c670-4a4a-927a-f1878d1aa15b",
   "metadata": {
    "scrolled": true
   },
   "outputs": [
    {
     "name": "stderr",
     "output_type": "stream",
     "text": [
      "/tmp/ipykernel_8694/690375164.py:3: SettingWithCopyWarning: \n",
      "A value is trying to be set on a copy of a slice from a DataFrame.\n",
      "Try using .loc[row_indexer,col_indexer] = value instead\n",
      "\n",
      "See the caveats in the documentation: https://pandas.pydata.org/pandas-docs/stable/user_guide/indexing.html#returning-a-view-versus-a-copy\n",
      "  data[\"text\"] = data[\"text\"].str.strip().str.replace(\"\\n\",\" \")\n"
     ]
    }
   ],
   "source": [
    "import re\n",
    "# Sử dụng .loc để thay đổi giá trị trong DataFrame gốc\n",
    "data[\"text\"] = data[\"text\"].str.strip().str.replace(\"\\n\",\" \")"
   ]
  },
  {
   "cell_type": "code",
   "execution_count": 274,
   "id": "4d6237fc-9ef8-43f2-a5d7-3e6d51c80c6f",
   "metadata": {},
   "outputs": [
    {
     "name": "stderr",
     "output_type": "stream",
     "text": [
      "100%|███████████████████████████████████| 11425/11425 [00:01<00:00, 6762.30it/s]\n",
      "100%|██████████████████████████████████| 11425/11425 [00:00<00:00, 40088.38it/s]\n"
     ]
    }
   ],
   "source": [
    "texts = [re.sub(r\"[^\\w\\s]\", \"\", t.lower()) for t in data['text']]\n",
    "texts = [' '.join(t.strip().split()) for t in texts]\n",
    "\n",
    "tokenizer = RegexpTokenizer(r'\\w+')\n",
    "tokens = [word_tokenize(t) for t in tqdm(texts)]\n",
    "tokens = [[\"\".join(tokenizer.tokenize(word)) for word in t if len(tokenizer.tokenize(word)) > 0] for t in tqdm(tokens)]\n",
    "\n",
    "texts = [\" \".join(t) for t in tokens]\n",
    "labels = data['label'].tolist()\n",
    "# labels = data['label'].map({'Positive': 0, 'Negative': 1, 'Neutral': 2}).tolist()"
   ]
  },
  {
   "cell_type": "code",
   "execution_count": 275,
   "id": "f287334e-5d32-4f01-aa24-2e550cf93d05",
   "metadata": {},
   "outputs": [
    {
     "name": "stderr",
     "output_type": "stream",
     "text": [
      "100%|███████████████████████████████████| 11425/11425 [00:01<00:00, 8979.81it/s]\n"
     ]
    }
   ],
   "source": [
    "# tokenized_texts = [word_tokenize(t) for t in texts]\n",
    "\n",
    "tokenized_texts = [\n",
    "    [word for word in word_tokenize(t) if word not in vietnamese_stopwords]\n",
    "    for t in tqdm(texts)\n",
    "]"
   ]
  },
  {
   "cell_type": "code",
   "execution_count": 276,
   "id": "cce2500f-55fd-4d11-bbee-cc013c52d099",
   "metadata": {},
   "outputs": [
    {
     "name": "stdout",
     "output_type": "stream",
     "text": [
      "Max length: 86\n",
      "Mean length: 8.410678336980306\n",
      "Median length: 7.0\n",
      "90th percentile: 15.0\n",
      "95th percentile: 19.0\n",
      "99th percentile: 29.0\n"
     ]
    },
    {
     "data": {
      "image/png": "[encoded data removed]",
      "text/plain": [
       "<Figure size 640x480 with 1 Axes>"
      ]
     },
     "metadata": {},
     "output_type": "display_data"
    }
   ],
   "source": [
    "import numpy as np\n",
    "import matplotlib.pyplot as plt\n",
    "import seaborn as sns\n",
    "lengths = [len(seq) for seq in tokenized_texts]\n",
    "\n",
    "print(\"Max length:\", max(lengths))\n",
    "print(\"Mean length:\", np.mean(lengths))\n",
    "print(\"Median length:\", np.median(lengths))\n",
    "print(\"90th percentile:\", np.percentile(lengths, 90))\n",
    "print(\"95th percentile:\", np.percentile(lengths, 95))\n",
    "print(\"99th percentile:\", np.percentile(lengths, 99))\n",
    "\n",
    "sns.histplot(lengths, bins=50, kde=True)\n",
    "plt.title(\"Phân phối độ dài câu (sau token hóa)\")\n",
    "plt.xlabel(\"Số token\")\n",
    "plt.ylabel(\"Số lượng văn bản\")\n",
    "plt.grid(True)\n",
    "plt.show()"
   ]
  },
  {
   "cell_type": "code",
   "execution_count": 277,
   "id": "b4ce9189-3b65-4db9-9c8c-f600f9be7ee3",
   "metadata": {},
   "outputs": [],
   "source": [
    "\n",
    "all_words = [w for txt in tokenized_texts for w in txt]\n",
    "most_common = Counter(all_words).most_common(4998)\n",
    "\n",
    "vocab = {'<PAD>': 0, '<UNK>': 1}\n",
    "for i, (w, _) in enumerate(most_common, 2):\n",
    "    vocab[w] = i\n",
    "\n",
    "def to_indices(tokens, max_len):\n",
    "    idxs = [vocab.get(t, 1) for t in tokens][:max_len]\n",
    "    return idxs + [0] * (max_len - len(idxs))\n",
    "\n",
    "max_len_text = 20\n",
    "text_indices = [to_indices(t, max_len_text) for t in tokenized_texts]\n",
    "\n",
    "train_texts, test_texts, train_labels, test_labels = train_test_split(text_indices, labels, test_size=0.1, random_state=42)"
   ]
  },
  {
   "cell_type": "code",
   "execution_count": 278,
   "id": "7d078c23-2040-4b1d-a2ee-67312e654545",
   "metadata": {},
   "outputs": [],
   "source": [
    "train_dataset = SentimentDataset(train_texts, train_labels)\n",
    "test_dataset = SentimentDataset(test_texts, test_labels)\n",
    "train_loader = DataLoader(train_dataset, batch_size=32)\n",
    "test_loader = DataLoader(test_dataset, batch_size=32)"
   ]
  },
  {
   "cell_type": "code",
   "execution_count": null,
   "id": "1924e372-149e-4b92-a831-ea05920b00c7",
   "metadata": {},
   "outputs": [],
   "source": []
  },
  {
   "cell_type": "code",
   "execution_count": 280,
   "id": "aa07daa7-71bc-4dfc-b20e-75a9f58a6e8a",
   "metadata": {},
   "outputs": [],
   "source": [
    "data_to_save = {\n",
    "    'train_loader': train_loader,\n",
    "    'test_loader': test_loader,\n",
    "    'batch_size': 32,\n",
    "    'vocab': vocab,\n",
    "    'vocab_size': len(vocab)\n",
    "}\n",
    "save_path = 'sentiment_data_loader.pth'\n",
    "torch.save(data_to_save, save_path)"
   ]
  },
  {
   "cell_type": "markdown",
   "id": "6be1bb89-ab49-4fcd-b4f6-17d7383f600f",
   "metadata": {},
   "source": []
  }
 ],
 "metadata": {
  "kernelspec": {
   "display_name": "Python 3 (ipykernel)",
   "language": "python",
   "name": "python3"
  },
  "language_info": {
   "codemirror_mode": {
    "name": "ipython",
    "version": 3
   },
   "file_extension": ".py",
   "mimetype": "text/x-python",
   "name": "python",
   "nbconvert_exporter": "python",
   "pygments_lexer": "ipython3",
   "version": "3.10.16"
  }
 },
 "nbformat": 4,
 "nbformat_minor": 5
}
